{
  "nbformat": 4,
  "nbformat_minor": 0,
  "metadata": {
    "colab": {
      "provenance": [],
      "include_colab_link": true
    },
    "kernelspec": {
      "name": "python3",
      "display_name": "Python 3"
    },
    "language_info": {
      "name": "python"
    }
  },
  "cells": [
    {
      "cell_type": "markdown",
      "metadata": {
        "id": "view-in-github",
        "colab_type": "text"
      },
      "source": [
        "<a href=\"https://colab.research.google.com/github/UDAY-CHAITANYA-G/electricity-load-forecasting/blob/main/Load_Demand_prediction_(520106%2C502117%2C520118%2C520131%2C520148)_jpynb.ipynb\" target=\"_parent\"><img src=\"https://colab.research.google.com/assets/colab-badge.svg\" alt=\"Open In Colab\"/></a>"
      ]
    },
    {
      "cell_type": "code",
      "execution_count": null,
      "metadata": {
        "id": "pdmq6uTDHYfy"
      },
      "outputs": [],
      "source": [
        "import pandas as pd                                                                     #importing pandas for reading data\n",
        "\n",
        "import numpy as np                                                                      #numpy for mathematical cal\n",
        "\n",
        "import matplotlib.pyplot as plt                                                          #for ploting the graph\n",
        "\n"
      ]
    },
    {
      "cell_type": "code",
      "source": [
        "# import treeFuctions as tf\n",
        "import numpy as np\n",
        "\n",
        "import pandas as pd\n",
        "from sklearn import tree\n",
        "from sklearn.tree import DecisionTreeClassifier\n",
        "from sklearn import metrics\n",
        "dataset = pd.read_csv(\"/content/drive/MyDrive/testset/train_dataset.csv\")\n",
        "\n",
        "print(dataset)"
      ],
      "metadata": {
        "colab": {
          "base_uri": "https://localhost:8080/"
        },
        "id": "Ms_NkG74HlnN",
        "outputId": "ad8b5b73-b383-4b7d-8d00-dc1ac11e2e8d"
      },
      "execution_count": null,
      "outputs": [
        {
          "output_type": "stream",
          "name": "stdout",
          "text": [
            "        week_X-2   week_X-3   week_X-4       MA_X-4  dayOfWeek  weekend  \\\n",
            "0       962.2865   906.9580   970.3450   938.004850          1        1   \n",
            "1       933.3221   863.5135   912.1755   900.284075          1        1   \n",
            "2       903.9817   848.4447   900.2688   881.704325          1        1   \n",
            "3       900.9995   839.8821   889.9538   876.458825          1        1   \n",
            "4       904.3481   847.1073   893.6865   879.190775          1        1   \n",
            "...          ...        ...        ...          ...        ...      ...   \n",
            "36715  1362.1477  1376.6220  1335.4711  1360.112475          4        0   \n",
            "36716  1330.7467  1338.3879  1305.3631  1332.959900          4        0   \n",
            "36717  1275.5550  1281.6932  1240.1208  1279.486450          4        0   \n",
            "36718  1200.3537  1209.2950  1165.0237  1199.699525          4        0   \n",
            "36719  1141.5161  1149.9883  1099.2100  1130.238133          5        0   \n",
            "\n",
            "       holiday  Holiday_ID  hourOfDay    T2M_toc     DEMAND  \n",
            "0            0           0          1  25.308496   954.2018  \n",
            "1            0           0          2  25.141443   913.8660  \n",
            "2            0           0          3  25.006738   903.3637  \n",
            "3            0           0          4  24.899713   889.0806  \n",
            "4            0           0          5  24.821558   910.1472  \n",
            "...        ...         ...        ...        ...        ...  \n",
            "36715        0           0         20  29.044763  1397.5788  \n",
            "36716        0           0         21  28.539545  1350.5093  \n",
            "36717        0           0         22  28.163232  1308.7955  \n",
            "36718        0           0         23  27.830194  1232.4521  \n",
            "36719        0           0          0  27.522791  1155.5925  \n",
            "\n",
            "[36720 rows x 11 columns]\n"
          ]
        }
      ]
    },
    {
      "cell_type": "code",
      "source": [
        "from google.colab import drive\n",
        "drive.mount('/content/drive')"
      ],
      "metadata": {
        "id": "Jmn3DymOHoIc"
      },
      "execution_count": null,
      "outputs": []
    },
    {
      "cell_type": "code",
      "source": [
        "from sklearn.model_selection import train_test_split\n",
        "import pandas as pd\n",
        "import numpy as np\n",
        " \n",
        "\n",
        "# We specify random seed so that the train and test data set always have the same rows, respectively\n",
        "np.random.seed(0)\n",
        "df_train, df_test = train_test_split(dataset, train_size = 0.7, test_size = 0.3, random_state = 100)\n",
        "\n",
        "\n",
        "\n",
        "#selecting rows , and coloumns\n",
        "# all rows by using : and coloumn1 by 1:2 \n",
        "X  = df_train.iloc[1:,1:-1] \n",
        "\n",
        "print(X)\n",
        "\n",
        "y = df_train.iloc[1:,1:-1]\n",
        "\n",
        "print(y)"
      ],
      "metadata": {
        "colab": {
          "base_uri": "https://localhost:8080/"
        },
        "id": "hvKOPrvDHlf6",
        "outputId": "5e010eb1-cdeb-401b-e6b6-fd220e3492fa"
      },
      "execution_count": null,
      "outputs": [
        {
          "output_type": "stream",
          "name": "stdout",
          "text": [
            "        week_X-3   week_X-4       MA_X-4  dayOfWeek  weekend  holiday  \\\n",
            "30809  1229.8917  1313.1488  1231.737425          3        0        0   \n",
            "34600  1316.7721  1359.7289  1327.326533          7        0        0   \n",
            "2599   1279.1149  1257.2713  1277.304475          4        0        0   \n",
            "20407  1282.9495  1312.3893  1314.740600          4        0        0   \n",
            "15717  1118.1956  1133.1349  1109.061425          4        0        0   \n",
            "...          ...        ...          ...        ...      ...      ...   \n",
            "16734  1059.1420  1024.3904  1062.085467          5        0        0   \n",
            "16304  1143.2065  1155.9640  1177.621925          1        1        0   \n",
            "79     1231.2967  1183.9851  1185.902650          4        0        0   \n",
            "12119  1031.3609  1064.7172  1041.212875          2        1        0   \n",
            "14147  1116.9216  1132.6373  1117.270550          2        1        0   \n",
            "\n",
            "       Holiday_ID  hourOfDay    T2M_toc  \n",
            "30809           0         18  27.920282  \n",
            "34600           0         17  27.297906  \n",
            "2599            0          8  27.528162  \n",
            "20407           0          8  27.596216  \n",
            "15717           0         22  25.817102  \n",
            "...           ...        ...        ...  \n",
            "16734           0          7  26.078027  \n",
            "16304           0          9  27.006921  \n",
            "79              0          8  27.285333  \n",
            "12119           0          0  27.102625  \n",
            "14147           0         12  28.492029  \n",
            "\n",
            "[25703 rows x 9 columns]\n",
            "        week_X-3   week_X-4       MA_X-4  dayOfWeek  weekend  holiday  \\\n",
            "30809  1229.8917  1313.1488  1231.737425          3        0        0   \n",
            "34600  1316.7721  1359.7289  1327.326533          7        0        0   \n",
            "2599   1279.1149  1257.2713  1277.304475          4        0        0   \n",
            "20407  1282.9495  1312.3893  1314.740600          4        0        0   \n",
            "15717  1118.1956  1133.1349  1109.061425          4        0        0   \n",
            "...          ...        ...          ...        ...      ...      ...   \n",
            "16734  1059.1420  1024.3904  1062.085467          5        0        0   \n",
            "16304  1143.2065  1155.9640  1177.621925          1        1        0   \n",
            "79     1231.2967  1183.9851  1185.902650          4        0        0   \n",
            "12119  1031.3609  1064.7172  1041.212875          2        1        0   \n",
            "14147  1116.9216  1132.6373  1117.270550          2        1        0   \n",
            "\n",
            "       Holiday_ID  hourOfDay    T2M_toc  \n",
            "30809           0         18  27.920282  \n",
            "34600           0         17  27.297906  \n",
            "2599            0          8  27.528162  \n",
            "20407           0          8  27.596216  \n",
            "15717           0         22  25.817102  \n",
            "...           ...        ...        ...  \n",
            "16734           0          7  26.078027  \n",
            "16304           0          9  27.006921  \n",
            "79              0          8  27.285333  \n",
            "12119           0          0  27.102625  \n",
            "14147           0         12  28.492029  \n",
            "\n",
            "[25703 rows x 9 columns]\n"
          ]
        }
      ]
    },
    {
      "cell_type": "code",
      "source": [],
      "metadata": {
        "id": "sMh5suKUmie2"
      },
      "execution_count": null,
      "outputs": []
    },
    {
      "cell_type": "code",
      "source": [
        "X_test = df_test.iloc[:,1:] \n",
        "X_test1 = X_test.drop([\"MA_X-4\", \"T2M_toc\", \"week_X-4\", \"week_X-3\",'holiday','Holiday_ID'],axis=1)\n",
        "y_test = df_test.iloc[:,1:]\n",
        "y_test1 = y_test.drop([\"MA_X-4\", \"T2M_toc\", \"week_X-4\", \"week_X-3\",'holiday','Holiday_ID'],axis = 1)\n",
        "\n"
      ],
      "metadata": {
        "id": "m-1Rh8BalDiC"
      },
      "execution_count": null,
      "outputs": []
    },
    {
      "cell_type": "code",
      "source": [
        "from sklearn.tree import DecisionTreeRegressor     #importing the regressor\n",
        "regressor = DecisionTreeRegressor(random_state=0)  #creating a regressor object for the decision tree\n",
        "X= df_train.iloc[:,1:]\n",
        "y = df_train.iloc[:,1:]\n",
        "X = X.drop([\"MA_X-4\", \"T2M_toc\", \"week_X-4\", \"week_X-3\",'holiday','Holiday_ID'],axis=1) #droping the features that have high VIF values (>5)\n",
        "y =y.drop([\"MA_X-4\", \"T2M_toc\", \"week_X-4\", \"week_X-3\",'holiday','Holiday_ID'],axis=1)\n",
        "regressor.fit(X,y)\n",
        "\n"
      ],
      "metadata": {
        "colab": {
          "base_uri": "https://localhost:8080/",
          "height": 74
        },
        "id": "I2xTCnlTHlE1",
        "outputId": "0b3ed745-c83e-4989-ac65-bf1b1109a62e"
      },
      "execution_count": null,
      "outputs": [
        {
          "output_type": "execute_result",
          "data": {
            "text/plain": [
              "DecisionTreeRegressor(random_state=0)"
            ],
            "text/html": [
              "<style>#sk-container-id-2 {color: black;background-color: white;}#sk-container-id-2 pre{padding: 0;}#sk-container-id-2 div.sk-toggleable {background-color: white;}#sk-container-id-2 label.sk-toggleable__label {cursor: pointer;display: block;width: 100%;margin-bottom: 0;padding: 0.3em;box-sizing: border-box;text-align: center;}#sk-container-id-2 label.sk-toggleable__label-arrow:before {content: \"▸\";float: left;margin-right: 0.25em;color: #696969;}#sk-container-id-2 label.sk-toggleable__label-arrow:hover:before {color: black;}#sk-container-id-2 div.sk-estimator:hover label.sk-toggleable__label-arrow:before {color: black;}#sk-container-id-2 div.sk-toggleable__content {max-height: 0;max-width: 0;overflow: hidden;text-align: left;background-color: #f0f8ff;}#sk-container-id-2 div.sk-toggleable__content pre {margin: 0.2em;color: black;border-radius: 0.25em;background-color: #f0f8ff;}#sk-container-id-2 input.sk-toggleable__control:checked~div.sk-toggleable__content {max-height: 200px;max-width: 100%;overflow: auto;}#sk-container-id-2 input.sk-toggleable__control:checked~label.sk-toggleable__label-arrow:before {content: \"▾\";}#sk-container-id-2 div.sk-estimator input.sk-toggleable__control:checked~label.sk-toggleable__label {background-color: #d4ebff;}#sk-container-id-2 div.sk-label input.sk-toggleable__control:checked~label.sk-toggleable__label {background-color: #d4ebff;}#sk-container-id-2 input.sk-hidden--visually {border: 0;clip: rect(1px 1px 1px 1px);clip: rect(1px, 1px, 1px, 1px);height: 1px;margin: -1px;overflow: hidden;padding: 0;position: absolute;width: 1px;}#sk-container-id-2 div.sk-estimator {font-family: monospace;background-color: #f0f8ff;border: 1px dotted black;border-radius: 0.25em;box-sizing: border-box;margin-bottom: 0.5em;}#sk-container-id-2 div.sk-estimator:hover {background-color: #d4ebff;}#sk-container-id-2 div.sk-parallel-item::after {content: \"\";width: 100%;border-bottom: 1px solid gray;flex-grow: 1;}#sk-container-id-2 div.sk-label:hover label.sk-toggleable__label {background-color: #d4ebff;}#sk-container-id-2 div.sk-serial::before {content: \"\";position: absolute;border-left: 1px solid gray;box-sizing: border-box;top: 0;bottom: 0;left: 50%;z-index: 0;}#sk-container-id-2 div.sk-serial {display: flex;flex-direction: column;align-items: center;background-color: white;padding-right: 0.2em;padding-left: 0.2em;position: relative;}#sk-container-id-2 div.sk-item {position: relative;z-index: 1;}#sk-container-id-2 div.sk-parallel {display: flex;align-items: stretch;justify-content: center;background-color: white;position: relative;}#sk-container-id-2 div.sk-item::before, #sk-container-id-2 div.sk-parallel-item::before {content: \"\";position: absolute;border-left: 1px solid gray;box-sizing: border-box;top: 0;bottom: 0;left: 50%;z-index: -1;}#sk-container-id-2 div.sk-parallel-item {display: flex;flex-direction: column;z-index: 1;position: relative;background-color: white;}#sk-container-id-2 div.sk-parallel-item:first-child::after {align-self: flex-end;width: 50%;}#sk-container-id-2 div.sk-parallel-item:last-child::after {align-self: flex-start;width: 50%;}#sk-container-id-2 div.sk-parallel-item:only-child::after {width: 0;}#sk-container-id-2 div.sk-dashed-wrapped {border: 1px dashed gray;margin: 0 0.4em 0.5em 0.4em;box-sizing: border-box;padding-bottom: 0.4em;background-color: white;}#sk-container-id-2 div.sk-label label {font-family: monospace;font-weight: bold;display: inline-block;line-height: 1.2em;}#sk-container-id-2 div.sk-label-container {text-align: center;}#sk-container-id-2 div.sk-container {/* jupyter's `normalize.less` sets `[hidden] { display: none; }` but bootstrap.min.css set `[hidden] { display: none !important; }` so we also need the `!important` here to be able to override the default hidden behavior on the sphinx rendered scikit-learn.org. See: https://github.com/scikit-learn/scikit-learn/issues/21755 */display: inline-block !important;position: relative;}#sk-container-id-2 div.sk-text-repr-fallback {display: none;}</style><div id=\"sk-container-id-2\" class=\"sk-top-container\"><div class=\"sk-text-repr-fallback\"><pre>DecisionTreeRegressor(random_state=0)</pre><b>In a Jupyter environment, please rerun this cell to show the HTML representation or trust the notebook. <br />On GitHub, the HTML representation is unable to render, please try loading this page with nbviewer.org.</b></div><div class=\"sk-container\" hidden><div class=\"sk-item\"><div class=\"sk-estimator sk-toggleable\"><input class=\"sk-toggleable__control sk-hidden--visually\" id=\"sk-estimator-id-2\" type=\"checkbox\" checked><label for=\"sk-estimator-id-2\" class=\"sk-toggleable__label sk-toggleable__label-arrow\">DecisionTreeRegressor</label><div class=\"sk-toggleable__content\"><pre>DecisionTreeRegressor(random_state=0)</pre></div></div></div></div></div>"
            ]
          },
          "metadata": {},
          "execution_count": 16
        }
      ]
    },
    {
      "cell_type": "code",
      "source": [
        "import matplotlib.pyplot as plt\n",
        "import numpy as np\n",
        "import csv\n",
        "\n",
        "X= df_train.iloc[:,1:]\n",
        "y = df_train.iloc[:,1:]\n",
        "X = X.drop([\"MA_X-4\", \"T2M_toc\", \"week_X-4\", \"week_X-3\",'holiday','Holiday_ID'],axis=1)\n",
        "y =y.drop([\"MA_X-4\", \"T2M_toc\", \"week_X-4\", \"week_X-3\",'holiday','Holiday_ID'],axis=1)\n",
        "plt.scatter(X,y,color = 'red')\n",
        "plt.plot(X,regressor.predict(X),color = 'blue')\n",
        "plt.title(\"Regression model\")\n",
        "plt.xlabel(\"\")\n",
        "plt.ylabel('')\n",
        "plt.show()"
      ],
      "metadata": {
        "colab": {
          "base_uri": "https://localhost:8080/",
          "height": 452
        },
        "id": "PDi-B-NXH1hT",
        "outputId": "f946489a-bb86-4ba9-ec35-f67477c6cdc4"
      },
      "execution_count": null,
      "outputs": [
        {
          "output_type": "display_data",
          "data": {
            "text/plain": [
              "<Figure size 640x480 with 1 Axes>"
            ],
            "image/png": "[encoded data removed]"
          },
          "metadata": {}
        }
      ]
    },
    {
      "cell_type": "code",
      "source": [],
      "metadata": {
        "id": "yLITWKCl_YcT"
      },
      "execution_count": null,
      "outputs": []
    },
    {
      "cell_type": "code",
      "source": [
        "###       testing the model built using  \"\"DessionTreeRegression\"\"  on testdata set\n",
        "\n",
        "\n",
        "import pandas as pd\n",
        "\n",
        "test = df_test\n",
        "X_new = test.iloc[:,1:]\n",
        "X_new = X_new.drop([\"MA_X-4\", \"T2M_toc\", \"week_X-4\", \"week_X-3\",'holiday','Holiday_ID'],axis =1)\n",
        "y_pred = regressor.predict(X_new)\n",
        "y_pred\n",
        "y = test.iloc[:,1:]\n",
        "y = y.drop([\"MA_X-4\", \"T2M_toc\", \"week_X-4\", \"week_X-3\",'holiday','Holiday_ID'],axis =1)\n",
        "\n",
        "from sklearn.metrics import r2_score\n",
        "r2_score(y_true = y, y_pred = y_pred)\n"
      ],
      "metadata": {
        "id": "kJiy7dJypzoA",
        "colab": {
          "base_uri": "https://localhost:8080/"
        },
        "outputId": "26ee41ae-fa7d-4847-ac5b-b29e75aeb7cc"
      },
      "execution_count": null,
      "outputs": [
        {
          "output_type": "execute_result",
          "data": {
            "text/plain": [
              "0.9419405215422714"
            ]
          },
          "metadata": {},
          "execution_count": 29
        }
      ]
    },
    {
      "cell_type": "code",
      "source": [
        "#buliding ML model using MLPRegressor            used data points (25703)    \n",
        "\n",
        "from sklearn.neural_network import MLPRegressor\n",
        "  \n",
        "X= df_train.iloc[:,1:]\n",
        "y = df_train.iloc[:,1:]\n",
        "\n",
        "X = X.drop([\"MA_X-4\", \"T2M_toc\", \"week_X-4\", \"week_X-3\",'holiday','Holiday_ID'],axis=1) #droping the features that have high VIF values (>5)\n",
        "y =y.drop([\"MA_X-4\", \"T2M_toc\", \"week_X-4\", \"week_X-3\",'holiday','Holiday_ID'],axis=1)\n",
        "\n",
        "mlp = MLPRegressor(hidden_layer_sizes=(7),\n",
        "                    random_state=4,\n",
        "                    verbose= True,\n",
        "                    activation= 'relu',\n",
        "                    learning_rate_init=0.01)\n",
        "\n",
        "\n",
        "mlp.fit(X,y)"
      ],
      "metadata": {
        "colab": {
          "base_uri": "https://localhost:8080/",
          "height": 1000
        },
        "id": "z9rM2McVmNhW",
        "outputId": "0932e18a-3706-4f29-a6bf-680fd0698831"
      },
      "execution_count": null,
      "outputs": [
        {
          "output_type": "stream",
          "name": "stdout",
          "text": [
            "Iteration 1, loss = 6124.58348658\n",
            "Iteration 2, loss = 9.20461697\n",
            "Iteration 3, loss = 8.55444593\n",
            "Iteration 4, loss = 7.87903803\n",
            "Iteration 5, loss = 7.27126277\n",
            "Iteration 6, loss = 6.72414387\n",
            "Iteration 7, loss = 6.26652378\n",
            "Iteration 8, loss = 5.87782604\n",
            "Iteration 9, loss = 5.56957589\n",
            "Iteration 10, loss = 5.31424270\n",
            "Iteration 11, loss = 5.09926395\n",
            "Iteration 12, loss = 4.90976880\n",
            "Iteration 13, loss = 4.75378569\n",
            "Iteration 14, loss = 4.58430971\n",
            "Iteration 15, loss = 4.43177395\n",
            "Iteration 16, loss = 4.29140019\n",
            "Iteration 17, loss = 4.13143247\n",
            "Iteration 18, loss = 3.91525019\n",
            "Iteration 19, loss = 3.71257104\n",
            "Iteration 20, loss = 3.46540964\n",
            "Iteration 21, loss = 3.22378864\n",
            "Iteration 22, loss = 2.87331476\n",
            "Iteration 23, loss = 2.54041217\n",
            "Iteration 24, loss = 2.22549216\n",
            "Iteration 25, loss = 1.71878465\n",
            "Iteration 26, loss = 1.34763209\n",
            "Iteration 27, loss = 0.92603235\n",
            "Iteration 28, loss = 0.67310925\n",
            "Iteration 29, loss = 0.40414171\n",
            "Iteration 30, loss = 0.27687595\n",
            "Iteration 31, loss = 0.14357493\n",
            "Iteration 32, loss = 0.12470757\n",
            "Iteration 33, loss = 0.10991325\n",
            "Iteration 34, loss = 0.10127946\n",
            "Iteration 35, loss = 0.07498770\n",
            "Iteration 36, loss = 0.08276708\n",
            "Iteration 37, loss = 0.12143400\n",
            "Iteration 38, loss = 0.04214420\n",
            "Iteration 39, loss = 0.09174502\n",
            "Iteration 40, loss = 0.06227572\n",
            "Iteration 41, loss = 0.10138052\n",
            "Iteration 42, loss = 0.11715778\n",
            "Iteration 43, loss = 0.03167841\n",
            "Iteration 44, loss = 0.08222002\n",
            "Iteration 45, loss = 0.07678118\n",
            "Iteration 46, loss = 0.07221733\n",
            "Iteration 47, loss = 0.22277702\n",
            "Iteration 48, loss = 0.41778635\n",
            "Iteration 49, loss = 0.01905522\n",
            "Iteration 50, loss = 0.40546941\n",
            "Iteration 51, loss = 0.37010906\n",
            "Iteration 52, loss = 0.05698140\n",
            "Iteration 53, loss = 0.52156700\n",
            "Iteration 54, loss = 0.10408783\n",
            "Iteration 55, loss = 0.46276617\n",
            "Iteration 56, loss = 0.01345651\n",
            "Iteration 57, loss = 0.68454419\n",
            "Iteration 58, loss = 0.00510975\n",
            "Iteration 59, loss = 0.18430598\n",
            "Iteration 60, loss = 0.77706218\n",
            "Iteration 61, loss = 0.00528260\n",
            "Iteration 62, loss = 0.54810999\n",
            "Iteration 63, loss = 0.08391293\n",
            "Iteration 64, loss = 0.49653408\n",
            "Iteration 65, loss = 0.20760206\n",
            "Iteration 66, loss = 0.96366924\n",
            "Iteration 67, loss = 0.10474181\n",
            "Iteration 68, loss = 0.28185566\n",
            "Iteration 69, loss = 0.75233609\n",
            "Training loss did not improve more than tol=0.000100 for 10 consecutive epochs. Stopping.\n"
          ]
        },
        {
          "output_type": "execute_result",
          "data": {
            "text/plain": [
              "MLPRegressor(hidden_layer_sizes=7, learning_rate_init=0.01, random_state=4,\n",
              "             verbose=True)"
            ],
            "text/html": [
              "<style>#sk-container-id-3 {color: black;background-color: white;}#sk-container-id-3 pre{padding: 0;}#sk-container-id-3 div.sk-toggleable {background-color: white;}#sk-container-id-3 label.sk-toggleable__label {cursor: pointer;display: block;width: 100%;margin-bottom: 0;padding: 0.3em;box-sizing: border-box;text-align: center;}#sk-container-id-3 label.sk-toggleable__label-arrow:before {content: \"▸\";float: left;margin-right: 0.25em;color: #696969;}#sk-container-id-3 label.sk-toggleable__label-arrow:hover:before {color: black;}#sk-container-id-3 div.sk-estimator:hover label.sk-toggleable__label-arrow:before {color: black;}#sk-container-id-3 div.sk-toggleable__content {max-height: 0;max-width: 0;overflow: hidden;text-align: left;background-color: #f0f8ff;}#sk-container-id-3 div.sk-toggleable__content pre {margin: 0.2em;color: black;border-radius: 0.25em;background-color: #f0f8ff;}#sk-container-id-3 input.sk-toggleable__control:checked~div.sk-toggleable__content {max-height: 200px;max-width: 100%;overflow: auto;}#sk-container-id-3 input.sk-toggleable__control:checked~label.sk-toggleable__label-arrow:before {content: \"▾\";}#sk-container-id-3 div.sk-estimator input.sk-toggleable__control:checked~label.sk-toggleable__label {background-color: #d4ebff;}#sk-container-id-3 div.sk-label input.sk-toggleable__control:checked~label.sk-toggleable__label {background-color: #d4ebff;}#sk-container-id-3 input.sk-hidden--visually {border: 0;clip: rect(1px 1px 1px 1px);clip: rect(1px, 1px, 1px, 1px);height: 1px;margin: -1px;overflow: hidden;padding: 0;position: absolute;width: 1px;}#sk-container-id-3 div.sk-estimator {font-family: monospace;background-color: #f0f8ff;border: 1px dotted black;border-radius: 0.25em;box-sizing: border-box;margin-bottom: 0.5em;}#sk-container-id-3 div.sk-estimator:hover {background-color: #d4ebff;}#sk-container-id-3 div.sk-parallel-item::after {content: \"\";width: 100%;border-bottom: 1px solid gray;flex-grow: 1;}#sk-container-id-3 div.sk-label:hover label.sk-toggleable__label {background-color: #d4ebff;}#sk-container-id-3 div.sk-serial::before {content: \"\";position: absolute;border-left: 1px solid gray;box-sizing: border-box;top: 0;bottom: 0;left: 50%;z-index: 0;}#sk-container-id-3 div.sk-serial {display: flex;flex-direction: column;align-items: center;background-color: white;padding-right: 0.2em;padding-left: 0.2em;position: relative;}#sk-container-id-3 div.sk-item {position: relative;z-index: 1;}#sk-container-id-3 div.sk-parallel {display: flex;align-items: stretch;justify-content: center;background-color: white;position: relative;}#sk-container-id-3 div.sk-item::before, #sk-container-id-3 div.sk-parallel-item::before {content: \"\";position: absolute;border-left: 1px solid gray;box-sizing: border-box;top: 0;bottom: 0;left: 50%;z-index: -1;}#sk-container-id-3 div.sk-parallel-item {display: flex;flex-direction: column;z-index: 1;position: relative;background-color: white;}#sk-container-id-3 div.sk-parallel-item:first-child::after {align-self: flex-end;width: 50%;}#sk-container-id-3 div.sk-parallel-item:last-child::after {align-self: flex-start;width: 50%;}#sk-container-id-3 div.sk-parallel-item:only-child::after {width: 0;}#sk-container-id-3 div.sk-dashed-wrapped {border: 1px dashed gray;margin: 0 0.4em 0.5em 0.4em;box-sizing: border-box;padding-bottom: 0.4em;background-color: white;}#sk-container-id-3 div.sk-label label {font-family: monospace;font-weight: bold;display: inline-block;line-height: 1.2em;}#sk-container-id-3 div.sk-label-container {text-align: center;}#sk-container-id-3 div.sk-container {/* jupyter's `normalize.less` sets `[hidden] { display: none; }` but bootstrap.min.css set `[hidden] { display: none !important; }` so we also need the `!important` here to be able to override the default hidden behavior on the sphinx rendered scikit-learn.org. See: https://github.com/scikit-learn/scikit-learn/issues/21755 */display: inline-block !important;position: relative;}#sk-container-id-3 div.sk-text-repr-fallback {display: none;}</style><div id=\"sk-container-id-3\" class=\"sk-top-container\"><div class=\"sk-text-repr-fallback\"><pre>MLPRegressor(hidden_layer_sizes=7, learning_rate_init=0.01, random_state=4,\n",
              "             verbose=True)</pre><b>In a Jupyter environment, please rerun this cell to show the HTML representation or trust the notebook. <br />On GitHub, the HTML representation is unable to render, please try loading this page with nbviewer.org.</b></div><div class=\"sk-container\" hidden><div class=\"sk-item\"><div class=\"sk-estimator sk-toggleable\"><input class=\"sk-toggleable__control sk-hidden--visually\" id=\"sk-estimator-id-3\" type=\"checkbox\" checked><label for=\"sk-estimator-id-3\" class=\"sk-toggleable__label sk-toggleable__label-arrow\">MLPRegressor</label><div class=\"sk-toggleable__content\"><pre>MLPRegressor(hidden_layer_sizes=7, learning_rate_init=0.01, random_state=4,\n",
              "             verbose=True)</pre></div></div></div></div></div>"
            ]
          },
          "metadata": {},
          "execution_count": 18
        }
      ]
    },
    {
      "cell_type": "code",
      "source": [
        "import matplotlib.pyplot as plt\n",
        "import numpy as np\n",
        "import csv\n",
        "\n",
        "X= df_train.iloc[:,1:]\n",
        "y = df_train.iloc[:,1:]\n",
        "X = X.drop([\"MA_X-4\", \"T2M_toc\", \"week_X-4\", \"week_X-3\",'holiday','Holiday_ID'],axis=1)\n",
        "y =y.drop([\"MA_X-4\", \"T2M_toc\", \"week_X-4\", \"week_X-3\",'holiday','Holiday_ID'],axis=1)\n",
        "plt.scatter(X,y,color = 'red')\n",
        "plt.plot(X,mlp.predict(X),color = 'blue')\n",
        "plt.title(\"Regression using MLP model\")\n",
        "plt.xlabel(\"\")\n",
        "plt.ylabel('')\n",
        "plt.show()"
      ],
      "metadata": {
        "colab": {
          "base_uri": "https://localhost:8080/",
          "height": 452
        },
        "id": "K1lSvPWFtNlu",
        "outputId": "ffc4ea12-b1d2-43e6-a1c0-a35958a59c7f"
      },
      "execution_count": null,
      "outputs": [
        {
          "output_type": "display_data",
          "data": {
            "text/plain": [
              "<Figure size 640x480 with 1 Axes>"
            ],
            "image/png": "[encoded data removed]"
          },
          "metadata": {}
        }
      ]
    },
    {
      "cell_type": "code",
      "source": [
        "#### testing the testing set with model developed using  \"\"MLPRegressor\"\"\n",
        "\n",
        "test = df_test\n",
        "X_new = test.iloc[:,1:]\n",
        "X_new = X_new.drop([\"MA_X-4\", \"T2M_toc\", \"week_X-4\", \"week_X-3\",'holiday','Holiday_ID'],axis =1)\n",
        "y_pred = mlp.predict(X_new)\n",
        "y_pred\n",
        "y = test.iloc[:,1:]\n",
        "y = y.drop([\"MA_X-4\", \"T2M_toc\", \"week_X-4\", \"week_X-3\",'holiday','Holiday_ID'],axis =1)\n",
        "\n",
        "from sklearn.metrics import r2_score\n",
        "r2_score(y_true = y, y_pred = y_pred)"
      ],
      "metadata": {
        "colab": {
          "base_uri": "https://localhost:8080/"
        },
        "id": "mviPp_iK_qUR",
        "outputId": "4ece76f3-565c-428d-cae1-ac3653743e99"
      },
      "execution_count": null,
      "outputs": [
        {
          "output_type": "execute_result",
          "data": {
            "text/plain": [
              "0.9689968905543799"
            ]
          },
          "metadata": {},
          "execution_count": 30
        }
      ]
    },
    {
      "cell_type": "code",
      "source": [
        "X= df_train.iloc[:,1:]\n",
        "y = df_train.iloc[:,1:]\n",
        "X = X.drop([\"MA_X-4\", \"T2M_toc\", \"week_X-4\", \"week_X-3\",'holiday','Holiday_ID'],axis=1)\n",
        "y =y.drop([\"MA_X-4\", \"T2M_toc\", \"week_X-4\", \"week_X-3\",'holiday','Holiday_ID'],axis=1)\n",
        "\n"
      ],
      "metadata": {
        "id": "Fffa6qiaMF1t"
      },
      "execution_count": null,
      "outputs": []
    },
    {
      "cell_type": "code",
      "source": [
        "##   test set\n",
        "X_test = df_test.iloc[1:,1:] \n",
        "X_test1 = X_test.drop([\"MA_X-4\", \"T2M_toc\", \"week_X-4\", \"week_X-3\",'holiday','Holiday_ID'],axis=1)\n",
        "y_test = df_test.iloc[1:,1:]\n",
        "y_test1 = y_test.drop([\"MA_X-4\", \"T2M_toc\", \"week_X-4\", \"week_X-3\",'holiday','Holiday_ID'],axis = 1)\n",
        "\n"
      ],
      "metadata": {
        "id": "DmjEx2UKoXZ2"
      },
      "execution_count": null,
      "outputs": []
    },
    {
      "cell_type": "code",
      "source": [
        "###       testing the model built using  \"\"DessionTreeRegression\"\"  on testdata set\n",
        "\n",
        "\n",
        "import pandas as pd\n",
        "\n",
        "test = df_test\n",
        "X_new = test.iloc[:,1:]\n",
        "X_new = X_new.drop([\"MA_X-4\", \"T2M_toc\", \"week_X-4\", \"week_X-3\",'holiday','Holiday_ID'],axis =1)\n",
        "y_pred = regressor.predict(X_new)\n",
        "y_pred\n",
        "y = test.iloc[:,1:]\n",
        "y = y.drop([\"MA_X-4\", \"T2M_toc\", \"week_X-4\", \"week_X-3\",'holiday','Holiday_ID'],axis =1)\n",
        "\n",
        "from sklearn.metrics import r2_score\n",
        "r2_score(y_true = y, y_pred = y_pred)\n",
        "\n"
      ],
      "metadata": {
        "colab": {
          "base_uri": "https://localhost:8080/"
        },
        "id": "5i61plMIwnzp",
        "outputId": "898e3aa1-35ee-42c8-d52b-f302aee818ec"
      },
      "execution_count": null,
      "outputs": [
        {
          "output_type": "execute_result",
          "data": {
            "text/plain": [
              "0.9419405215422714"
            ]
          },
          "metadata": {},
          "execution_count": 22
        }
      ]
    },
    {
      "cell_type": "code",
      "source": [],
      "metadata": {
        "id": "tGAhi42I0fPf"
      },
      "execution_count": null,
      "outputs": []
    },
    {
      "cell_type": "code",
      "source": [
        "#### testing the testing set with model developed using  \"\"MLPRegressor\"\"\n",
        "\n",
        "test = df_test\n",
        "X_new = test.iloc[:,1:]\n",
        "X_new = X_new.drop([\"MA_X-4\", \"T2M_toc\", \"week_X-4\", \"week_X-3\",'holiday','Holiday_ID'],axis =1)\n",
        "y_pred = mlp.predict(X_new)\n",
        "y_pred\n",
        "y = test.iloc[:,1:]\n",
        "y = y.drop([\"MA_X-4\", \"T2M_toc\", \"week_X-4\", \"week_X-3\",'holiday','Holiday_ID'],axis =1)\n",
        "\n",
        "from sklearn.metrics import r2_score\n",
        "r2_score(y_true = y, y_pred = y_pred)"
      ],
      "metadata": {
        "outputId": "34da9c68-eacf-4c28-f1bf-7ad633fd265a",
        "colab": {
          "base_uri": "https://localhost:8080/"
        },
        "id": "PSEKzXuMo-Ox"
      },
      "execution_count": null,
      "outputs": [
        {
          "output_type": "execute_result",
          "data": {
            "text/plain": [
              "0.9689968905543799"
            ]
          },
          "metadata": {},
          "execution_count": 23
        }
      ]
    },
    {
      "cell_type": "code",
      "source": [
        "###       testing the model built using  \"\"DessionTreeRegression\"\"  on 2nd set of test data set\n",
        "\n",
        "\n",
        "import pandas as pd\n",
        "\n",
        "test = pd.read_csv('/content/drive/MyDrive/testset/test_dataframes.csv')\n",
        "X_new = test.iloc[:,1:]\n",
        "X_new = X_new.drop([\"MA_X-4\", \"T2M_toc\", \"week_X-4\", \"week_X-3\",'holiday','Holiday_ID'],axis =1)\n",
        "y_pred = regressor.predict(X_new)\n",
        "y_pred\n",
        "y = test.iloc[:,1:]\n",
        "y = y.drop([\"MA_X-4\", \"T2M_toc\", \"week_X-4\", \"week_X-3\",'holiday','Holiday_ID'],axis =1)\n",
        "\n",
        "from sklearn.metrics import r2_score\n",
        "r2_score(y_true = y, y_pred = y_pred)\n",
        "\n"
      ],
      "metadata": {
        "colab": {
          "base_uri": "https://localhost:8080/"
        },
        "id": "nF78_NyuH1cD",
        "outputId": "632239b9-3246-41e0-9aab-f0dd23ae40fc"
      },
      "execution_count": null,
      "outputs": [
        {
          "output_type": "execute_result",
          "data": {
            "text/plain": [
              "0.7506242977589643"
            ]
          },
          "metadata": {},
          "execution_count": 24
        }
      ]
    },
    {
      "cell_type": "code",
      "source": [
        "##     testing the model built using \"\"MLPRegressor\"\"  on secound set of test data\n",
        "\n",
        "import pandas as pd\n",
        "\n",
        "test = pd.read_csv('/content/drive/MyDrive/testset/test_dataframes.csv')\n",
        "X_new = test.iloc[:,1:]\n",
        "X_new = X_new.drop([\"MA_X-4\", \"T2M_toc\", \"week_X-4\", \"week_X-3\",'holiday','Holiday_ID'],axis =1)\n",
        "y_pred = mlp.predict(X_new)\n",
        "y_pred\n",
        "y = test.iloc[:,1:]\n",
        "y = y.drop([\"MA_X-4\", \"T2M_toc\", \"week_X-4\", \"week_X-3\",'holiday','Holiday_ID'],axis =1)\n",
        "\n",
        "from sklearn.metrics import r2_score\n",
        "r2_score(y_true = y, y_pred = y_pred)\n",
        " "
      ],
      "metadata": {
        "colab": {
          "base_uri": "https://localhost:8080/"
        },
        "id": "CrmjA3fZ3B-o",
        "outputId": "8dc75f04-de57-4ec9-cfcb-8fbb2fa68533"
      },
      "execution_count": null,
      "outputs": [
        {
          "output_type": "execute_result",
          "data": {
            "text/plain": [
              "0.9766536421119828"
            ]
          },
          "metadata": {},
          "execution_count": 25
        }
      ]
    },
    {
      "cell_type": "code",
      "source": [
        "energy1 = pd.read_csv(\"/content/drive/MyDrive/testset/train_dataset.csv\")            #assigning a variable for the training set\n",
        "energy1"
      ],
      "metadata": {
        "id": "qVUYDab-oE13"
      },
      "execution_count": null,
      "outputs": []
    }
  ]
}